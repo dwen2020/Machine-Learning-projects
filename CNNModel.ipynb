{
 "cells": [
  {
   "cell_type": "markdown",
   "metadata": {
    "id": "UsG_BbZTObiO"
   },
   "source": [
    "## Importing the Libraries"
   ]
  },
  {
   "cell_type": "code",
   "execution_count": 1,
   "metadata": {
    "id": "sCV30xyVhFbE"
   },
   "outputs": [],
   "source": [
    "import tensorflow as tf\n",
    "from keras.preprocessing.image import ImageDataGenerator\n",
    "from matplotlib import pyplot as plt"
   ]
  },
  {
   "cell_type": "markdown",
   "metadata": {
    "id": "oxQxCBWyoGPE"
   },
   "source": [
    "## Data Preprocessing"
   ]
  },
  {
   "cell_type": "markdown",
   "metadata": {
    "id": "MvE-heJNo3GG"
   },
   "source": [
    "### Preprocessing the Training Set"
   ]
  },
  {
   "cell_type": "code",
   "execution_count": 2,
   "metadata": {
    "colab": {
     "base_uri": "https://localhost:8080/"
    },
    "id": "0koUcJMJpEBD",
    "outputId": "664f7d26-216f-4f63-c360-92427680c608"
   },
   "outputs": [
    {
     "name": "stdout",
     "output_type": "stream",
     "text": [
      "Found 518 images belonging to 5 classes.\n"
     ]
    }
   ],
   "source": [
    "train_datagen = ImageDataGenerator(rescale = 1./255)\n",
    "training_set = train_datagen.flow_from_directory('Images/Train',\n",
    "                                                 target_size = (64, 64),\n",
    "                                                 batch_size = 32, \n",
    "                                                 color_mode=\"grayscale\",\n",
    "                                                 class_mode = 'categorical')"
   ]
  },
  {
   "cell_type": "markdown",
   "metadata": {
    "id": "mrCMmGw9pHys"
   },
   "source": [
    "### Preprocessing the Test Set"
   ]
  },
  {
   "cell_type": "code",
   "execution_count": 3,
   "metadata": {
    "colab": {
     "base_uri": "https://localhost:8080/"
    },
    "id": "SH4WzfOhpKc3",
    "outputId": "54f17deb-cb89-453b-bd6a-d9393db12f3e"
   },
   "outputs": [
    {
     "name": "stdout",
     "output_type": "stream",
     "text": [
      "Found 141 images belonging to 5 classes.\n"
     ]
    }
   ],
   "source": [
    "test_datagen = ImageDataGenerator(rescale = 1./255)\n",
    "test_set = test_datagen.flow_from_directory('Images/Test',\n",
    "                                            target_size = (64, 64),\n",
    "                                            batch_size = 32,\n",
    "                                            color_mode=\"grayscale\",\n",
    "                                            class_mode = 'categorical')"
   ]
  },
  {
   "cell_type": "markdown",
   "metadata": {
    "id": "af8O4l90gk7B"
   },
   "source": [
    "## Building the CNN Model"
   ]
  },
  {
   "cell_type": "markdown",
   "metadata": {
    "id": "ces1gXY2lmoX"
   },
   "source": [
    "### Initialising the Model"
   ]
  },
  {
   "cell_type": "code",
   "execution_count": 4,
   "metadata": {
    "id": "SAUt4UMPlhLS"
   },
   "outputs": [],
   "source": [
    "Model = tf.keras.models.Sequential()"
   ]
  },
  {
   "cell_type": "markdown",
   "metadata": {
    "id": "u5YJj_XMl5LF"
   },
   "source": [
    "### Adding First Convolution Layer "
   ]
  },
  {
   "cell_type": "code",
   "execution_count": 5,
   "metadata": {
    "id": "XPzPrMckl-hV"
   },
   "outputs": [],
   "source": [
    "Model.add(tf.keras.layers.Conv2D(filters=128, kernel_size=3, activation='relu', input_shape=[64, 64, 1]))"
   ]
  },
  {
   "cell_type": "markdown",
   "metadata": {
    "id": "tf87FpvxmNOJ"
   },
   "source": [
    "### Pooling the First Layer"
   ]
  },
  {
   "cell_type": "code",
   "execution_count": 6,
   "metadata": {
    "id": "ncpqPl69mOac"
   },
   "outputs": [],
   "source": [
    "Model.add(tf.keras.layers.MaxPool2D(pool_size=2, strides=2))"
   ]
  },
  {
   "cell_type": "markdown",
   "metadata": {
    "id": "xaTOgD8rm4mU"
   },
   "source": [
    "### Adding a Second Convolutional Layer"
   ]
  },
  {
   "cell_type": "code",
   "execution_count": 7,
   "metadata": {
    "id": "i_-FZjn_m8gk"
   },
   "outputs": [],
   "source": [
    "Model.add(tf.keras.layers.Conv2D(filters=128, kernel_size=3, activation='relu'))"
   ]
  },
  {
   "cell_type": "markdown",
   "metadata": {
    "id": "FB_oQQ73N_jS"
   },
   "source": [
    "### Pooling the Second Layer"
   ]
  },
  {
   "cell_type": "code",
   "execution_count": 8,
   "metadata": {
    "id": "dx8E_g1LN_jS"
   },
   "outputs": [],
   "source": [
    "Model.add(tf.keras.layers.MaxPool2D(pool_size=2, strides=2))"
   ]
  },
  {
   "cell_type": "markdown",
   "metadata": {
    "id": "tmiEuvTunKfk"
   },
   "source": [
    "### Flattening"
   ]
  },
  {
   "cell_type": "code",
   "execution_count": 9,
   "metadata": {
    "id": "6AZeOGCvnNZn"
   },
   "outputs": [],
   "source": [
    "Model.add(tf.keras.layers.Flatten())"
   ]
  },
  {
   "cell_type": "markdown",
   "metadata": {
    "id": "dAoSECOm203v"
   },
   "source": [
    "### Full Connection"
   ]
  },
  {
   "cell_type": "code",
   "execution_count": 10,
   "metadata": {
    "id": "8GtmUlLd26Nq"
   },
   "outputs": [],
   "source": [
    "Model.add(tf.keras.layers.Dense(units=32, activation='relu'))"
   ]
  },
  {
   "cell_type": "markdown",
   "metadata": {
    "id": "yTldFvbX28Na"
   },
   "source": [
    "### Output Layer\n",
    "For classes greater than two, a softmax activation function is used"
   ]
  },
  {
   "cell_type": "code",
   "execution_count": 11,
   "metadata": {
    "id": "OfXDavH2N_jU"
   },
   "outputs": [],
   "source": [
    "Model.add(tf.keras.layers.Dense(units=5, activation='softmax'))"
   ]
  },
  {
   "cell_type": "markdown",
   "metadata": {
    "id": "vfrFQACEnc6i"
   },
   "source": [
    "### Compiling "
   ]
  },
  {
   "cell_type": "code",
   "execution_count": 12,
   "metadata": {
    "id": "fm8vuAXDN_jU"
   },
   "outputs": [],
   "source": [
    "Model.compile(loss='categorical_crossentropy', optimizer='nadam',metrics=['accuracy'])"
   ]
  },
  {
   "cell_type": "markdown",
   "metadata": {
    "id": "D6XkI90snSDl"
   },
   "source": [
    "## Training the CNN and Evaluation"
   ]
  },
  {
   "cell_type": "code",
   "execution_count": 17,
   "metadata": {
    "colab": {
     "base_uri": "https://localhost:8080/"
    },
    "id": "XUj1W4PJptta",
    "outputId": "59007565-1f38-4e0a-85f7-85b89658a348",
    "scrolled": true
   },
   "outputs": [
    {
     "name": "stdout",
     "output_type": "stream",
     "text": [
      "Epoch 1/32\n",
      "17/17 [==============================] - 23s 1s/step - loss: 0.0866 - accuracy: 0.9826 - val_loss: 4.6346 - val_accuracy: 0.2340\n",
      "Epoch 2/32\n",
      "17/17 [==============================] - 24s 1s/step - loss: 0.0699 - accuracy: 0.9884 - val_loss: 4.8020 - val_accuracy: 0.2411\n",
      "Epoch 3/32\n",
      "17/17 [==============================] - 26s 2s/step - loss: 0.0611 - accuracy: 0.9903 - val_loss: 4.9344 - val_accuracy: 0.2411\n",
      "Epoch 4/32\n",
      "17/17 [==============================] - 22s 1s/step - loss: 0.0497 - accuracy: 0.9942 - val_loss: 5.1445 - val_accuracy: 0.2482\n",
      "Epoch 5/32\n",
      "17/17 [==============================] - 23s 1s/step - loss: 0.0445 - accuracy: 0.9923 - val_loss: 5.2982 - val_accuracy: 0.2340\n",
      "Epoch 6/32\n",
      "17/17 [==============================] - 24s 1s/step - loss: 0.0406 - accuracy: 0.9942 - val_loss: 5.5618 - val_accuracy: 0.2482\n",
      "Epoch 7/32\n",
      "17/17 [==============================] - 25s 1s/step - loss: 0.0349 - accuracy: 0.9961 - val_loss: 5.6616 - val_accuracy: 0.2482\n",
      "Epoch 8/32\n",
      "17/17 [==============================] - 25s 1s/step - loss: 0.0316 - accuracy: 0.9961 - val_loss: 5.8701 - val_accuracy: 0.2411\n",
      "Epoch 9/32\n",
      "17/17 [==============================] - 24s 1s/step - loss: 0.0305 - accuracy: 0.9961 - val_loss: 5.9303 - val_accuracy: 0.2411\n",
      "Epoch 10/32\n",
      "17/17 [==============================] - 23s 1s/step - loss: 0.0261 - accuracy: 0.9961 - val_loss: 6.2250 - val_accuracy: 0.2553\n",
      "Epoch 11/32\n",
      "17/17 [==============================] - 24s 1s/step - loss: 0.0222 - accuracy: 0.9961 - val_loss: 6.1702 - val_accuracy: 0.2340\n",
      "Epoch 12/32\n",
      "17/17 [==============================] - 22s 1s/step - loss: 0.0204 - accuracy: 0.9961 - val_loss: 6.4008 - val_accuracy: 0.2553\n",
      "Epoch 13/32\n",
      "17/17 [==============================] - 25s 1s/step - loss: 0.0179 - accuracy: 0.9961 - val_loss: 6.4062 - val_accuracy: 0.2411\n",
      "Epoch 14/32\n",
      "17/17 [==============================] - 22s 1s/step - loss: 0.0171 - accuracy: 0.9961 - val_loss: 6.5692 - val_accuracy: 0.2553\n",
      "Epoch 15/32\n",
      "17/17 [==============================] - 27s 2s/step - loss: 0.0157 - accuracy: 0.9961 - val_loss: 6.6603 - val_accuracy: 0.2482\n",
      "Epoch 16/32\n",
      "17/17 [==============================] - 23s 1s/step - loss: 0.0148 - accuracy: 0.9961 - val_loss: 6.7924 - val_accuracy: 0.2482\n",
      "Epoch 17/32\n",
      "17/17 [==============================] - 22s 1s/step - loss: 0.0140 - accuracy: 0.9961 - val_loss: 6.8348 - val_accuracy: 0.2553\n",
      "Epoch 18/32\n",
      "17/17 [==============================] - 25s 1s/step - loss: 0.0134 - accuracy: 0.9961 - val_loss: 6.9696 - val_accuracy: 0.2482\n",
      "Epoch 19/32\n",
      "17/17 [==============================] - 25s 1s/step - loss: 0.0128 - accuracy: 0.9961 - val_loss: 7.0660 - val_accuracy: 0.2695\n",
      "Epoch 20/32\n",
      "17/17 [==============================] - 24s 1s/step - loss: 0.0124 - accuracy: 0.9961 - val_loss: 7.0050 - val_accuracy: 0.2482\n",
      "Epoch 21/32\n",
      "17/17 [==============================] - 24s 1s/step - loss: 0.0122 - accuracy: 0.9961 - val_loss: 7.1916 - val_accuracy: 0.2482\n",
      "Epoch 22/32\n",
      "17/17 [==============================] - 26s 2s/step - loss: 0.0115 - accuracy: 0.9961 - val_loss: 7.2480 - val_accuracy: 0.2482\n",
      "Epoch 23/32\n",
      "17/17 [==============================] - 27s 2s/step - loss: 0.0111 - accuracy: 0.9961 - val_loss: 7.3379 - val_accuracy: 0.2482\n",
      "Epoch 24/32\n",
      "17/17 [==============================] - 26s 2s/step - loss: 0.0108 - accuracy: 0.9961 - val_loss: 7.3768 - val_accuracy: 0.2482\n",
      "Epoch 25/32\n",
      "17/17 [==============================] - 25s 1s/step - loss: 0.0106 - accuracy: 0.9961 - val_loss: 7.4848 - val_accuracy: 0.2482\n",
      "Epoch 26/32\n",
      "17/17 [==============================] - 23s 1s/step - loss: 0.0103 - accuracy: 0.9961 - val_loss: 7.5811 - val_accuracy: 0.2553\n",
      "Epoch 27/32\n",
      "17/17 [==============================] - 24s 1s/step - loss: 0.0102 - accuracy: 0.9961 - val_loss: 7.5181 - val_accuracy: 0.2411\n",
      "Epoch 28/32\n",
      "17/17 [==============================] - 28s 2s/step - loss: 0.0098 - accuracy: 0.9961 - val_loss: 7.6358 - val_accuracy: 0.2553\n",
      "Epoch 29/32\n",
      "17/17 [==============================] - 24s 1s/step - loss: 0.0096 - accuracy: 0.9961 - val_loss: 7.7003 - val_accuracy: 0.2553\n",
      "Epoch 30/32\n",
      "17/17 [==============================] - 25s 1s/step - loss: 0.0094 - accuracy: 0.9961 - val_loss: 7.7897 - val_accuracy: 0.2553\n",
      "Epoch 31/32\n",
      "17/17 [==============================] - 25s 1s/step - loss: 0.0092 - accuracy: 0.9961 - val_loss: 7.8592 - val_accuracy: 0.2482\n",
      "Epoch 32/32\n",
      "17/17 [==============================] - 23s 1s/step - loss: 0.0090 - accuracy: 0.9961 - val_loss: 7.8986 - val_accuracy: 0.2482\n"
     ]
    },
    {
     "data": {
      "text/plain": [
       "<keras.callbacks.History at 0x16690f77670>"
      ]
     },
     "execution_count": 17,
     "metadata": {},
     "output_type": "execute_result"
    }
   ],
   "source": [
    "Model.fit(x = training_set, validation_data = test_set, epochs = 32)"
   ]
  },
  {
   "cell_type": "markdown",
   "metadata": {
    "id": "T12MhWqhN_jV"
   },
   "source": [
    "## Model Accuracy"
   ]
  },
  {
   "cell_type": "code",
   "execution_count": 18,
   "metadata": {
    "colab": {
     "base_uri": "https://localhost:8080/"
    },
    "id": "-LNnrY4QN_jV",
    "outputId": "efff740b-12c7-4fc3-fe08-87e8b235eb83",
    "scrolled": true
   },
   "outputs": [
    {
     "name": "stdout",
     "output_type": "stream",
     "text": [
      "17/17 [==============================] - 27s 2s/step - loss: 0.0088 - accuracy: 0.9961\n"
     ]
    },
    {
     "data": {
      "text/plain": [
       "[0.008843790739774704, 0.9961389899253845]"
      ]
     },
     "execution_count": 18,
     "metadata": {},
     "output_type": "execute_result"
    }
   ],
   "source": [
    "Model.evaluate(training_set)"
   ]
  },
  {
   "cell_type": "code",
   "execution_count": 19,
   "metadata": {
    "colab": {
     "base_uri": "https://localhost:8080/"
    },
    "id": "VZUP50JyN_jW",
    "outputId": "30efc374-529e-419d-b338-528375f27ae7",
    "scrolled": true
   },
   "outputs": [
    {
     "name": "stdout",
     "output_type": "stream",
     "text": [
      "5/5 [==============================] - 5s 1s/step - loss: 7.8986 - accuracy: 0.2482\n"
     ]
    },
    {
     "data": {
      "text/plain": [
       "[7.898611545562744, 0.24822695553302765]"
      ]
     },
     "execution_count": 19,
     "metadata": {},
     "output_type": "execute_result"
    }
   ],
   "source": [
    "Model.evaluate(test_set)"
   ]
  },
  {
   "cell_type": "code",
   "execution_count": null,
   "metadata": {},
   "outputs": [],
   "source": []
  },
  {
   "cell_type": "code",
   "execution_count": null,
   "metadata": {},
   "outputs": [],
   "source": []
  }
 ],
 "metadata": {
  "colab": {
   "provenance": [],
   "toc_visible": true
  },
  "kernelspec": {
   "display_name": "Python 3 (ipykernel)",
   "language": "python",
   "name": "python3"
  },
  "language_info": {
   "codemirror_mode": {
    "name": "ipython",
    "version": 3
   },
   "file_extension": ".py",
   "mimetype": "text/x-python",
   "name": "python",
   "nbconvert_exporter": "python",
   "pygments_lexer": "ipython3",
   "version": "3.9.13"
  },
  "toc": {
   "base_numbering": 1,
   "nav_menu": {},
   "number_sections": true,
   "sideBar": true,
   "skip_h1_title": false,
   "title_cell": "Table of Contents",
   "title_sidebar": "Contents",
   "toc_cell": false,
   "toc_position": {},
   "toc_section_display": true,
   "toc_window_display": false
  },
  "varInspector": {
   "cols": {
    "lenName": 16,
    "lenType": 16,
    "lenVar": 40
   },
   "kernels_config": {
    "python": {
     "delete_cmd_postfix": "",
     "delete_cmd_prefix": "del ",
     "library": "var_list.py",
     "varRefreshCmd": "print(var_dic_list())"
    },
    "r": {
     "delete_cmd_postfix": ") ",
     "delete_cmd_prefix": "rm(",
     "library": "var_list.r",
     "varRefreshCmd": "cat(var_dic_list()) "
    }
   },
   "types_to_exclude": [
    "module",
    "function",
    "builtin_function_or_method",
    "instance",
    "_Feature"
   ],
   "window_display": false
  }
 },
 "nbformat": 4,
 "nbformat_minor": 1
}
